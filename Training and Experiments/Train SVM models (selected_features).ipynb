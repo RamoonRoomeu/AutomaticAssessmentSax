{
 "cells": [
  {
   "cell_type": "code",
   "execution_count": 1,
   "metadata": {},
   "outputs": [],
   "source": [
    "import pandas as pd\n",
    "import numpy as np\n",
    "import os\n",
    "import pickle\n",
    "from pickle import load\n",
    "from sklearn.metrics import accuracy_score\n",
    "from sklearn.metrics import balanced_accuracy_score\n",
    "from sklearn.model_selection import train_test_split\n",
    "from sklearn import svm\n",
    "from sklearn import preprocessing\n",
    "import essentia.standard as es\n",
    "from utilities import *"
   ]
  },
  {
   "cell_type": "markdown",
   "metadata": {},
   "source": [
    "## Create and save a model for each set of features"
   ]
  },
  {
   "cell_type": "code",
   "execution_count": 2,
   "metadata": {},
   "outputs": [
    {
     "name": "stdout",
     "output_type": "stream",
     "text": [
      "(324, 12)\n",
      "Good-sound balanced accuracy: 1.0\n",
      "(324, 18)\n",
      "Bad-attack balanced accuracy: 0.9242424242424243\n",
      "(324, 18)\n",
      "Bad-dynamics balanced accuracy: 0.957942097026604\n",
      "(324, 37)\n",
      "Bad-pich balanced accuracy: 0.8327586206896551\n",
      "(324, 22)\n",
      "Bad-timber balanced accuracy: 0.8915004748338082\n",
      "(324, 43)\n",
      "Bad-richness balanced accuracy: 0.8584280303030303\n"
     ]
    }
   ],
   "source": [
    "csvfiles = ['extracted_features/Bad-attack_SingleNotes_LowLevelFeatures.csv', 'extracted_features/Good-sound_SingleNotes_LowLevelFeatures.csv']\n",
    "descriptors = ['Good-sound', 'Bad-attack', 'Bad-dynamics', 'Bad-pich', 'Bad-timber', 'Bad-richness']\n",
    "\n",
    "for i in range(len(descriptors)):\n",
    "    \n",
    "    #Load the data\n",
    "    if descriptors[i] == 'Bad-attack':\n",
    "        df = pd.read_csv(csvfiles[0])\n",
    "    else:\n",
    "        df = pd.read_csv(csvfiles[1])\n",
    "    \n",
    "    #Retrieve the previously selected features\n",
    "    selected_features_file = os.path.join('selected_features', descriptors[i])\n",
    "    file = open(selected_features_file+'.txt', \"r\")\n",
    "    content = file.read()\n",
    "    selected_features = content.split(\",\")\n",
    "    file.close()\n",
    "    selected_features = selected_features[:-1]\n",
    "    \n",
    "    #Divide de data in x and Y\n",
    "    y = np.array(df[[descriptors[i]]])\n",
    "    y = y.astype('int') \n",
    "    y = np.ravel(y)\n",
    "    X = df[selected_features]\n",
    "    print(X.shape)\n",
    "\n",
    "    #Organize where the model is saved\n",
    "    path = 'models/selected_features_SVM'\n",
    "    model_path = os.path.join(path, descriptors[i])\n",
    "\n",
    "    #Train and save the models\n",
    "    X_train, X_test, y_train, y_test = train_test_split(X, y, test_size = 0.33, random_state = 0)\n",
    "                              \n",
    "    clf = svm.SVC(kernel='linear', probability = True) # Linear Kernel\n",
    "    clf.fit(X_train, y_train)\n",
    "    y_pred = clf.predict(X_test)    \n",
    "    # save the model to disk\n",
    "    with open(model_path, 'wb') as file:\n",
    "        pickle.dump(clf, file)\n",
    "\n",
    "    print(descriptors[i], \"balanced accuracy:\", balanced_accuracy_score(y_test, y_pred))"
   ]
  }
 ],
 "metadata": {
  "kernelspec": {
   "display_name": "Python 3",
   "language": "python",
   "name": "python3"
  },
  "language_info": {
   "codemirror_mode": {
    "name": "ipython",
    "version": 3
   },
   "file_extension": ".py",
   "mimetype": "text/x-python",
   "name": "python",
   "nbconvert_exporter": "python",
   "pygments_lexer": "ipython3",
   "version": "3.8.5"
  }
 },
 "nbformat": 4,
 "nbformat_minor": 4
}
